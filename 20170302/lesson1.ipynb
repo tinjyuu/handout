{
 "cells": [
  {
   "cell_type": "code",
   "execution_count": 1,
   "metadata": {
    "collapsed": false
   },
   "outputs": [
    {
     "name": "stdout",
     "output_type": "stream",
     "text": [
      "ハローワールド\n"
     ]
    }
   ],
   "source": [
    "# みんなだいすきハローワールド \n",
    "\n",
    "print(\"ハローワールド\")"
   ]
  },
  {
   "cell_type": "code",
   "execution_count": 9,
   "metadata": {
    "collapsed": false
   },
   "outputs": [
    {
     "name": "stdout",
     "output_type": "stream",
     "text": [
      "1\n",
      "aa\"\n",
      "None\n"
     ]
    }
   ],
   "source": [
    "# variable\n",
    "i = 1\n",
    "s = 'aa\"'\n",
    "s2 = \"aa\\\"\"\n",
    "n = None  # null\n",
    "d = \"bbbb\"\n",
    "print (i)\n",
    "print (s2)\n",
    "print(n)\n",
    "\n",
    "# 好きな変数を定義してみよう"
   ]
  },
  {
   "cell_type": "code",
   "execution_count": 12,
   "metadata": {
    "collapsed": false
   },
   "outputs": [
    {
     "name": "stdout",
     "output_type": "stream",
     "text": [
      "4\n",
      "2\n",
      "3\n",
      "2.0\n",
      "0\n"
     ]
    }
   ],
   "source": [
    "# operation\n",
    "print (1 + 3) \n",
    "print (3 - 1)\n",
    "print (1 * 3)\n",
    "print (2 / 1)\n",
    "print (4 % 2)\n",
    "\n"
   ]
  },
  {
   "cell_type": "code",
   "execution_count": 14,
   "metadata": {
    "collapsed": false
   },
   "outputs": [
    {
     "name": "stdout",
     "output_type": "stream",
     "text": [
      "[1, 2, 3]\n",
      "['文字列', 'aa']\n",
      "[[1, 2], []]\n"
     ]
    }
   ],
   "source": [
    "# list\n",
    "a = [1,2,3]\n",
    "print (a)\n",
    "b = [\"文字列\", \"aa\"]\n",
    "c = [[1,2],[]]\n",
    "print(b)\n",
    "print(c)"
   ]
  },
  {
   "cell_type": "code",
   "execution_count": 15,
   "metadata": {
    "collapsed": false
   },
   "outputs": [
    {
     "name": "stdout",
     "output_type": "stream",
     "text": [
      "[1, 2, 3, 4]\n"
     ]
    }
   ],
   "source": [
    "# add\n",
    "a.append(4)\n",
    "print (a)"
   ]
  },
  {
   "cell_type": "code",
   "execution_count": 16,
   "metadata": {
    "collapsed": false
   },
   "outputs": [
    {
     "name": "stdout",
     "output_type": "stream",
     "text": [
      "[2, 3, 4]\n"
     ]
    }
   ],
   "source": [
    "# delete\n",
    "del a[0]\n",
    "print (a)"
   ]
  },
  {
   "cell_type": "code",
   "execution_count": 6,
   "metadata": {
    "collapsed": false
   },
   "outputs": [
    {
     "name": "stdout",
     "output_type": "stream",
     "text": [
      "[1, 8, 9]\n"
     ]
    }
   ],
   "source": [
    "# 複数削除\n",
    "b = [1,2,3,4,5,6,7,8,9]\n",
    "del b[1:7]\n",
    "print (b)"
   ]
  },
  {
   "cell_type": "code",
   "execution_count": 12,
   "metadata": {
    "collapsed": false
   },
   "outputs": [
    {
     "name": "stdout",
     "output_type": "stream",
     "text": [
      "[]\n"
     ]
    }
   ],
   "source": [
    "# clear\n",
    "b.clear()\n",
    "\n",
    "print(b)"
   ]
  },
  {
   "cell_type": "code",
   "execution_count": 17,
   "metadata": {
    "collapsed": false
   },
   "outputs": [
    {
     "ename": "AttributeError",
     "evalue": "'tuple' object has no attribute 'append'",
     "output_type": "error",
     "traceback": [
      "\u001b[0;31m---------------------------------------------------------------------------\u001b[0m",
      "\u001b[0;31mAttributeError\u001b[0m                            Traceback (most recent call last)",
      "\u001b[0;32m<ipython-input-17-736b3a3252da>\u001b[0m in \u001b[0;36m<module>\u001b[0;34m()\u001b[0m\n\u001b[1;32m      1\u001b[0m \u001b[0;31m# tuple (固定のリスト)\u001b[0m\u001b[0;34m\u001b[0m\u001b[0;34m\u001b[0m\u001b[0m\n\u001b[1;32m      2\u001b[0m \u001b[0mt\u001b[0m \u001b[0;34m=\u001b[0m \u001b[0;34m(\u001b[0m\u001b[0;36m1\u001b[0m\u001b[0;34m,\u001b[0m\u001b[0;36m2\u001b[0m\u001b[0;34m)\u001b[0m\u001b[0;34m\u001b[0m\u001b[0m\n\u001b[0;32m----> 3\u001b[0;31m \u001b[0mt\u001b[0m\u001b[0;34m.\u001b[0m\u001b[0mappend\u001b[0m\u001b[0;34m(\u001b[0m\u001b[0;36m1\u001b[0m\u001b[0;34m)\u001b[0m\u001b[0;34m\u001b[0m\u001b[0m\n\u001b[0m\u001b[1;32m      4\u001b[0m \u001b[0mprint\u001b[0m\u001b[0;34m(\u001b[0m\u001b[0mt\u001b[0m\u001b[0;34m)\u001b[0m\u001b[0;34m\u001b[0m\u001b[0m\n",
      "\u001b[0;31mAttributeError\u001b[0m: 'tuple' object has no attribute 'append'"
     ]
    }
   ],
   "source": [
    "# tuple (固定のリスト)\n",
    "t = (1,2)\n",
    "#t.append(1)\n",
    "print(t)"
   ]
  },
  {
   "cell_type": "code",
   "execution_count": 19,
   "metadata": {
    "collapsed": false
   },
   "outputs": [
    {
     "name": "stdout",
     "output_type": "stream",
     "text": [
      "{'b': 1111, 'l': [1, 2, 3], 'd': {'aa': 'aaa'}, 'a': 'aaa'}\n",
      "1111\n",
      "{'b': 1111, 'l': [1, 2, 3], 'c': 'aaa', 'd': {'aa': 'aaa'}, 'a': 'aaa'}\n",
      "{'b': 1111, 'l': [1, 2, 3], 'c': 'aaa', 'd': {'aa': 'aaa'}, 'a': 'aaa'}\n"
     ]
    }
   ],
   "source": [
    "# dict\n",
    "d = {\n",
    "    \"a\": 'aaa',\n",
    "    \"b\": 1111,\n",
    "    \"d\": {\n",
    "        \"aa\": \"aaa\",\n",
    "    },\n",
    "    \"l\": [1,2,3]\n",
    "}\n",
    "print(d)\n",
    "print(d[\"b\"])\n",
    "d[\"c\"] = \"ccc\"\n",
    "print(d)\n"
   ]
  },
  {
   "cell_type": "code",
   "execution_count": 21,
   "metadata": {
    "collapsed": false
   },
   "outputs": [],
   "source": [
    "# if\n",
    "if True:\n",
    "    print (\"True\")"
   ]
  },
  {
   "cell_type": "code",
   "execution_count": 24,
   "metadata": {
    "collapsed": false
   },
   "outputs": [
    {
     "name": "stdout",
     "output_type": "stream",
     "text": [
      "True\n"
     ]
    }
   ],
   "source": [
    "i = 3\n",
    "if i >= 3:\n",
    "    print(\"True\")\n",
    "else:\n",
    "    print(\"False\")"
   ]
  },
  {
   "cell_type": "code",
   "execution_count": 30,
   "metadata": {
    "collapsed": false
   },
   "outputs": [
    {
     "name": "stdout",
     "output_type": "stream",
     "text": [
      "True\n"
     ]
    }
   ],
   "source": [
    "# None is False\n",
    "n = {}\n",
    "if n:\n",
    "    print(\"True\")\n",
    "else:\n",
    "    print(\"False\")"
   ]
  },
  {
   "cell_type": "code",
   "execution_count": 33,
   "metadata": {
    "collapsed": false
   },
   "outputs": [
    {
     "name": "stdout",
     "output_type": "stream",
     "text": [
      "None\n",
      "None\n"
     ]
    }
   ],
   "source": [
    "n = None\n",
    "if n is None:\n",
    "    print(\"None\")\n",
    "if not n:\n",
    "    print(\"ok\")"
   ]
  },
  {
   "cell_type": "code",
   "execution_count": 65,
   "metadata": {
    "collapsed": false
   },
   "outputs": [],
   "source": [
    "s = \"tanosi-\"\n",
    "if s == \"tanosi-\":\n",
    "    print(\"楽しい！\")"
   ]
  },
  {
   "cell_type": "code",
   "execution_count": 34,
   "metadata": {
    "collapsed": false
   },
   "outputs": [
    {
     "name": "stdout",
     "output_type": "stream",
     "text": [
      "ok\n"
     ]
    }
   ],
   "source": [
    "i= \"a\"\n",
    "if i == \"b\" or i == \"a\":\n",
    "    print(\"ok\")\n"
   ]
  },
  {
   "cell_type": "code",
   "execution_count": 35,
   "metadata": {
    "collapsed": false
   },
   "outputs": [
    {
     "name": "stdout",
     "output_type": "stream",
     "text": [
      "ok\n"
     ]
    }
   ],
   "source": [
    "b = \"b\"\n",
    "if b == \"b\" and i == \"a\":\n",
    "    print(\"ok\")"
   ]
  },
  {
   "cell_type": "code",
   "execution_count": 23,
   "metadata": {
    "collapsed": false
   },
   "outputs": [
    {
     "name": "stdout",
     "output_type": "stream",
     "text": [
      "1\n",
      "2\n",
      "3\n",
      "4\n"
     ]
    }
   ],
   "source": [
    "for i in [1,2,3,4]:\n",
    "    print(i)"
   ]
  },
  {
   "cell_type": "code",
   "execution_count": 37,
   "metadata": {
    "collapsed": false
   },
   "outputs": [
    {
     "name": "stdout",
     "output_type": "stream",
     "text": [
      "0\n",
      "1\n",
      "3\n",
      "4\n",
      "5\n",
      "6\n"
     ]
    }
   ],
   "source": [
    "for i in [0,1,3,4,5,6]:\n",
    "    print(i)"
   ]
  },
  {
   "cell_type": "code",
   "execution_count": 39,
   "metadata": {
    "collapsed": false
   },
   "outputs": [
    {
     "name": "stdout",
     "output_type": "stream",
     "text": [
      "k1\n",
      "v1\n",
      "k2\n",
      "v2\n",
      "k3\n",
      "v3\n"
     ]
    }
   ],
   "source": [
    "# for loop by dict\n",
    "d = {\n",
    "    \"k1\": \"v1\",\n",
    "    \"k2\": \"v2\",\n",
    "    \"k3\": \"v3\",\n",
    "}\n",
    "for key, value in d.items():\n",
    "    print(key)\n",
    "    print(value)"
   ]
  },
  {
   "cell_type": "code",
   "execution_count": 70,
   "metadata": {
    "collapsed": false
   },
   "outputs": [
    {
     "name": "stdout",
     "output_type": "stream",
     "text": [
      "a\n",
      "1\n",
      "__\n",
      "b\n",
      "2\n",
      "__\n",
      "c\n",
      "3\n",
      "__\n"
     ]
    }
   ],
   "source": [
    "# for loop using zip\n",
    "for a, b in zip( [\"a\", \"b\", \"c\"],[1,2,3,4,5]):\n",
    "    print(a)\n",
    "    print(b)\n",
    "    print(\"__\")"
   ]
  },
  {
   "cell_type": "code",
   "execution_count": 1,
   "metadata": {
    "collapsed": false
   },
   "outputs": [
    {
     "name": "stdout",
     "output_type": "stream",
     "text": [
      "3\n"
     ]
    }
   ],
   "source": [
    "# function\n",
    "def test(a, b):\n",
    "    return a + b\n",
    "\n",
    "print(test(1, 2))"
   ]
  },
  {
   "cell_type": "code",
   "execution_count": 26,
   "metadata": {
    "collapsed": false
   },
   "outputs": [
    {
     "name": "stdout",
     "output_type": "stream",
     "text": [
      "init\n",
      "2\n",
      "3\n",
      "hello\n"
     ]
    }
   ],
   "source": [
    "# Class\n",
    "\n",
    "class Test(object):\n",
    "    # Classのインスタンスを作った時に呼ばれるmethod\n",
    "    def __init__(self, a):\n",
    "        self.a = a\n",
    "        print(\"init\")\n",
    "    \n",
    "    # クラスｋ\n",
    "    def a_plus(self):\n",
    "        self.a += 1\n",
    "        print(self.a)\n",
    "    \n",
    "    # 引数のmethodにメソッド（関数）を受け取るメソッド\n",
    "    # pythonは変数にクラスやメソッドなど何でも代入出来る。\n",
    "    def f(self, method):\n",
    "        method()\n",
    "    \n",
    "t = Test(1)\n",
    "t.a_plus()\n",
    "t.a_plus()\n",
    "\n",
    "def m():\n",
    "    print(\"hello\")\n",
    "    \n",
    "t.f(m)"
   ]
  }
 ],
 "metadata": {
  "anaconda-cloud": {},
  "kernelspec": {
   "display_name": "Python [Root]",
   "language": "python",
   "name": "Python [Root]"
  },
  "language_info": {
   "codemirror_mode": {
    "name": "ipython",
    "version": 3
   },
   "file_extension": ".py",
   "mimetype": "text/x-python",
   "name": "python",
   "nbconvert_exporter": "python",
   "pygments_lexer": "ipython3",
   "version": "3.5.1"
  }
 },
 "nbformat": 4,
 "nbformat_minor": 0
}
